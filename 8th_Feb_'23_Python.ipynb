{
 "cells": [
  {
   "cell_type": "code",
   "execution_count": 1,
   "id": "3add574c-2d85-4573-91ae-521e90c956e9",
   "metadata": {},
   "outputs": [],
   "source": [
    "# Q1. What is Abstraction in OOps? Explain with an example."
   ]
  },
  {
   "cell_type": "code",
   "execution_count": 2,
   "id": "83967dba-9d52-485b-9202-d1c8010722ff",
   "metadata": {},
   "outputs": [],
   "source": [
    "# A1. Abstraction in OOPS means to create abstract classes and methods.\n",
    "# An abstract class is a class that can not be instantiated and is created \n",
    "# to use in other classes. Similarly abstract methods are created only in the absract class\n",
    "# and cannot be used separately.\n",
    "# Example is as under :-"
   ]
  },
  {
   "cell_type": "code",
   "execution_count": 7,
   "id": "f066553f-8020-468a-b294-399aba3e35e4",
   "metadata": {},
   "outputs": [
    {
     "name": "stdout",
     "output_type": "stream",
     "text": [
      "Circle Area: 28.259999999999998\n",
      "Circle Perimeter: 18.84\n",
      "Rectangle Area: 18\n",
      "Rectangle Perimeter: 18\n"
     ]
    }
   ],
   "source": [
    "from abc import ABC, abstractmethod\n",
    "\n",
    "class Shape(ABC):\n",
    "    @abstractmethod\n",
    "    def area(self):\n",
    "        pass\n",
    "    \n",
    "    @abstractmethod\n",
    "    def perimeter(self):\n",
    "        pass\n",
    "    \n",
    "class Circle(Shape):\n",
    "    def __init__ (self,radius):\n",
    "        self.radius = radius\n",
    "        \n",
    "    def area(self):\n",
    "        return 3.14 * self.radius * self.radius\n",
    "    \n",
    "    def perimeter(self):\n",
    "        return 2 * 3.14 * self.radius\n",
    "    \n",
    "class Rectangle(Shape):\n",
    "    def __init__ (self,length,breadth):\n",
    "        self.length = length\n",
    "        self.breadth = breadth\n",
    "        \n",
    "    def area(self):\n",
    "        return self.length * self.breadth\n",
    "    \n",
    "    def perimeter(self):\n",
    "        return 2 * (self.length + self.breadth)\n",
    "    \n",
    "circle = Circle(3)\n",
    "rectangle = Rectangle(6,3)\n",
    "\n",
    "print(\"Circle Area:\", circle.area())\n",
    "print(\"Circle Perimeter:\", circle.perimeter())\n",
    "\n",
    "print(\"Rectangle Area:\", rectangle.area())\n",
    "print(\"Rectangle Perimeter:\", rectangle.perimeter())"
   ]
  },
  {
   "cell_type": "code",
   "execution_count": 8,
   "id": "4b10f3f8-29b7-41ac-93e7-7091027e5412",
   "metadata": {},
   "outputs": [],
   "source": [
    "# Q2. Differentiate between Abstraction and Encapsulation. Explain with an example."
   ]
  },
  {
   "cell_type": "code",
   "execution_count": 3,
   "id": "e9d52fb1-01ba-4bbe-9f39-4906a6552f5d",
   "metadata": {},
   "outputs": [],
   "source": [
    "# A2. Abstraction and encapsulation are two key principles in object-oriented programming (OOP), including Python. \n",
    "# They both aim to manage complexity and improve code organization, but they address different aspects of \n",
    "# software design.\n",
    "# Encapsulation:\n",
    "\n",
    "# Encapsulation is the concept of bundling data (attributes) and methods (functions) that operate on that data into a single unit, known as a class.\n",
    "# Direct access to some components of an object is restricted while controlled access is provided through methods. \n",
    "# Objects should be designed to hide the internal implementation details and expose only what is needed to interact with them from the outside.\n",
    "\n",
    "# In Python, encapsulation is achieved by using access modifiers like private ('__') and protected ('_') to control the visibility of attributes \n",
    "# and methods. However, Python enforces access control through convention rather than strict enforcement.\n",
    "\n",
    "# Abstraction:\n",
    "\n",
    "# Abstraction, on the other hand, is the process of simplifying complex reality by modeling classes based on essential properties and behaviors. \n",
    "# It allows you to represent essential features of an object while hiding unnecessary details. It helps manage complexity by separating what \n",
    "# an object does (methods) from how it achieves it (implementation details).\n",
    "\n",
    "# In Python, abstraction is often achieved through the use of abstract base classes (ABCs). ABCs define a common interface that subclasses \n",
    "# are expected to implement. This allows you to specify what methods must be present in a class without providing a complete implementation.\n",
    "\n",
    "# To sum up the difference:\n",
    "\n",
    "# Encapsulation emphasizes data hiding and controlled access to attributes and methods within a class. Basically, \n",
    "# it's about packaging related data and behavior together and limiting external access to it.\n",
    "# Abstraction emphasizes the creation of clear and simplified interfaces that hide implementation details. \n",
    "# In other words, it's defining a common structure that focuses on what an object does instead of how it does it.\n"
   ]
  },
  {
   "cell_type": "code",
   "execution_count": 4,
   "id": "548b7f80-a657-4297-9715-ccc0b21cd82e",
   "metadata": {},
   "outputs": [],
   "source": [
    "# Example of Abstraction:\n",
    "# Consider a class Car that represents a car. We will define a method start() that abstracts away the \n",
    "# internal details of starting the car:\n",
    "\n",
    "# class Car:\n",
    "#     def start(self):\n",
    "#         # Abstraction: Hiding the internal details of starting the car\n",
    "#         print(\"Car engine started\")\n",
    "\n",
    "# # Create an instance of the Car class\n",
    "# my_car = Car()\n",
    "\n",
    "# # Call the start method without knowing the internal details\n",
    "# my_car.start()\n",
    "\n",
    "# In this example, the start method abstracts the details of how the car engine is started. \n",
    "# The user of the Car class doesn't need to know the internal mechanisms; they can simply \n",
    "# call the start method to initiate the starting process."
   ]
  },
  {
   "cell_type": "code",
   "execution_count": 5,
   "id": "88fe1796-9a7d-4190-acc1-eb9305366e31",
   "metadata": {},
   "outputs": [],
   "source": [
    "# Example of Encapsulation:\n",
    "# Continuing with the Car class, we can encapsulate the state (data) and \n",
    "# behavior (methods) of the car within the class:\n",
    "\n",
    "# class Car:\n",
    "#     def __init__(self, brand):\n",
    "#         # Encapsulation: State (brand) is encapsulated within the class\n",
    "#         self.brand = brand\n",
    "#         self.engine_running = False\n",
    "\n",
    "#     def start(self):\n",
    "#         # Encapsulation: Behavior (starting the engine) is encapsulated within the class\n",
    "#         self.engine_running = True\n",
    "#         print(f\"{self.brand} car engine started\")\n",
    "\n",
    "# # Create an instance of the Car class\n",
    "# my_car = Car(brand=\"Toyota\")\n",
    "\n",
    "# # Access the state (brand) directly\n",
    "# print(f\"Car brand: {my_car.brand}\")\n",
    "\n",
    "# # Try to directly access the internal state (engine_running)\n",
    "# # This would be prevented in a well-encapsulated class\n",
    "# # print(f\"Engine running: {my_car.engine_running}\")\n",
    "\n",
    "# # Call the start method to start the engine\n",
    "# my_car.start()\n",
    "\n",
    "\n",
    "# In this example, the brand and engine_running are encapsulated within the Car class. \n",
    "# Direct access to engine_running is prevented from outside the class, demonstrating encapsulation. \n",
    "# The user interacts with the object through well-defined methods like start, maintaining a clear interface \n",
    "# and hiding implementation details."
   ]
  },
  {
   "cell_type": "code",
   "execution_count": null,
   "id": "e15ba7ed-dce7-4bd4-8a36-6529f84cf5ca",
   "metadata": {},
   "outputs": [],
   "source": []
  },
  {
   "cell_type": "code",
   "execution_count": null,
   "id": "4ff6d636-2d59-43f1-b755-e73628e5e013",
   "metadata": {},
   "outputs": [],
   "source": []
  },
  {
   "cell_type": "code",
   "execution_count": null,
   "id": "9d79ae5e-152f-4d83-b084-31e0c7e2b295",
   "metadata": {},
   "outputs": [],
   "source": []
  },
  {
   "cell_type": "code",
   "execution_count": null,
   "id": "0b34e758-df0e-40a9-8646-fc37b753364a",
   "metadata": {},
   "outputs": [],
   "source": []
  },
  {
   "cell_type": "code",
   "execution_count": 6,
   "id": "4533997a-8ed2-4029-82eb-4017fc10d730",
   "metadata": {},
   "outputs": [],
   "source": [
    "# Q3. What is abc module in python? Why is it used?"
   ]
  },
  {
   "cell_type": "code",
   "execution_count": 7,
   "id": "8e986fb1-067c-4bd9-b6b7-ce04b215e57a",
   "metadata": {},
   "outputs": [],
   "source": [
    "# The abc module in Python stands for \"Abstract Base Classes.\" \n",
    "# It provides the ABC (Abstract Base Class) and abstractmethod decorators that allow you \n",
    "# to define abstract classes and abstract methods.\n",
    "\n",
    "# Here's a brief explanation of these concepts:\n",
    "\n",
    "# Abstract Base Class (ABC): An abstract base class is a class that cannot be instantiated on its own \n",
    "#                            and is meant to be subclassed by other classes. It may contain abstract methods, which are methods declared \n",
    "#                            but not implemented in the abstract base class. Subclasses must provide concrete implementations\n",
    "                             # for these abstract methods.\n",
    "\n",
    "# abstractmethod decorator: This decorator is used to declare abstract methods within an abstract base class. \n",
    "#                           Abstract methods are meant to be overridden by concrete implementations in subclasses."
   ]
  },
  {
   "cell_type": "code",
   "execution_count": null,
   "id": "8ad1c6f0-f54f-42a4-97a6-3344af62b2c8",
   "metadata": {},
   "outputs": [],
   "source": []
  },
  {
   "cell_type": "code",
   "execution_count": null,
   "id": "9c13b46e-7418-4f16-bc84-059cf913dd33",
   "metadata": {},
   "outputs": [],
   "source": []
  },
  {
   "cell_type": "code",
   "execution_count": null,
   "id": "9ed70d56-99da-4a37-a100-d171775c25d1",
   "metadata": {},
   "outputs": [],
   "source": []
  },
  {
   "cell_type": "code",
   "execution_count": null,
   "id": "6e43b4f5-2ffb-479c-ae96-993a76db66d7",
   "metadata": {},
   "outputs": [],
   "source": []
  },
  {
   "cell_type": "code",
   "execution_count": 8,
   "id": "9ad6b734-fd63-49f0-bc8e-8f9854655059",
   "metadata": {},
   "outputs": [],
   "source": [
    "# Q4. How can we achieve data abstraction?"
   ]
  },
  {
   "cell_type": "code",
   "execution_count": 9,
   "id": "e3c55b3b-2554-4496-a84b-f6ea1e64eca1",
   "metadata": {},
   "outputs": [],
   "source": [
    "# In Python, there are several ways to achieve data abstraction. one of which is as follows:\n",
    "\n",
    "# Abstract Base Classes (ABC):\n",
    "\n",
    "# Use the abc module to define abstract classes and abstract methods.\n",
    "# This enforces that subclasses must provide concrete implementations for these abstract methods.\n",
    "\n",
    "# from abc import ABC, abstractmethod\n",
    "\n",
    "# class Shape(ABC):\n",
    "#     @abstractmethod\n",
    "#     def area(self):\n",
    "#         pass\n",
    "\n",
    "#     @abstractmethod\n",
    "#     def perimeter(self):\n",
    "#         pass"
   ]
  },
  {
   "cell_type": "code",
   "execution_count": null,
   "id": "d890b214-3d84-4f1c-8808-70714ffde9e7",
   "metadata": {},
   "outputs": [],
   "source": []
  },
  {
   "cell_type": "code",
   "execution_count": null,
   "id": "b4f31b84-68ad-4f8b-b4d3-d5aff7fbb5ea",
   "metadata": {},
   "outputs": [],
   "source": []
  },
  {
   "cell_type": "code",
   "execution_count": null,
   "id": "d4509b7f-1318-43bc-9e31-3b2fe3380617",
   "metadata": {},
   "outputs": [],
   "source": []
  },
  {
   "cell_type": "code",
   "execution_count": null,
   "id": "c0db17d8-b21a-4447-861c-9fc40e8a7291",
   "metadata": {},
   "outputs": [],
   "source": []
  },
  {
   "cell_type": "code",
   "execution_count": 10,
   "id": "fbe40f64-1916-436a-a1bd-de1e28cc74a2",
   "metadata": {},
   "outputs": [],
   "source": [
    "# Q5. Can we create an instance of an abstract class? Explain your answer."
   ]
  },
  {
   "cell_type": "code",
   "execution_count": 1,
   "id": "ab4df0e6-2e07-413a-a367-a7a34b0e3c5c",
   "metadata": {},
   "outputs": [],
   "source": [
    "# No, you cannot create an instance of an abstract class in Python. Abstract classes are meant to \n",
    "# be incomplete and serve as a blueprint for other classes (concrete subclasses) to inherit from. \n",
    "# They may contain abstract methods, which are declared but not implemented in the abstract class.\n",
    "\n",
    "# Attempting to create an instance of an abstract class directly will result in a TypeError. \n",
    "# Abstract classes are designed to be subclassed, and it is the responsibility of the subclasses \n",
    "# to provide concrete implementations for the abstract methods."
   ]
  },
  {
   "cell_type": "code",
   "execution_count": null,
   "id": "b5bf0fad-7fd3-44c7-be13-2a3fd02a935a",
   "metadata": {},
   "outputs": [],
   "source": []
  }
 ],
 "metadata": {
  "kernelspec": {
   "display_name": "Python 3 (ipykernel)",
   "language": "python",
   "name": "python3"
  },
  "language_info": {
   "codemirror_mode": {
    "name": "ipython",
    "version": 3
   },
   "file_extension": ".py",
   "mimetype": "text/x-python",
   "name": "python",
   "nbconvert_exporter": "python",
   "pygments_lexer": "ipython3",
   "version": "3.10.8"
  }
 },
 "nbformat": 4,
 "nbformat_minor": 5
}
